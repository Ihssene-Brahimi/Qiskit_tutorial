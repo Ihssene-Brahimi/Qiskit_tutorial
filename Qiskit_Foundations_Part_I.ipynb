{
  "nbformat": 4,
  "nbformat_minor": 0,
  "metadata": {
    "colab": {
      "provenance": []
    },
    "kernelspec": {
      "name": "python3",
      "display_name": "Python 3"
    },
    "language_info": {
      "name": "python"
    }
  },
  "cells": [
    {
      "cell_type": "markdown",
      "source": [
        "# **Qiskit Foundations Part I**"
      ],
      "metadata": {
        "id": "pIhnQmuXCaUl"
      }
    },
    {
      "cell_type": "markdown",
      "source": [
        "# **Installing Qiskit**"
      ],
      "metadata": {
        "id": "pvBPxTi3UJfp"
      }
    },
    {
      "cell_type": "code",
      "source": [
        "!pip install qiskit"
      ],
      "metadata": {
        "colab": {
          "base_uri": "https://localhost:8080/"
        },
        "id": "9KWcsAgWCokm",
        "outputId": "54719470-48dc-4909-c541-4c278db4c1ec"
      },
      "execution_count": 1,
      "outputs": [
        {
          "output_type": "stream",
          "name": "stdout",
          "text": [
            "Looking in indexes: https://pypi.org/simple, https://us-python.pkg.dev/colab-wheels/public/simple/\n",
            "Requirement already satisfied: qiskit in /usr/local/lib/python3.7/dist-packages (0.39.0)\n",
            "Requirement already satisfied: qiskit-aer==0.11.0 in /usr/local/lib/python3.7/dist-packages (from qiskit) (0.11.0)\n",
            "Requirement already satisfied: qiskit-ibmq-provider==0.19.2 in /usr/local/lib/python3.7/dist-packages (from qiskit) (0.19.2)\n",
            "Requirement already satisfied: qiskit-terra==0.22.0 in /usr/local/lib/python3.7/dist-packages (from qiskit) (0.22.0)\n",
            "Requirement already satisfied: scipy>=1.0 in /usr/local/lib/python3.7/dist-packages (from qiskit-aer==0.11.0->qiskit) (1.7.3)\n",
            "Requirement already satisfied: numpy>=1.16.3 in /usr/local/lib/python3.7/dist-packages (from qiskit-aer==0.11.0->qiskit) (1.21.6)\n",
            "Requirement already satisfied: urllib3>=1.21.1 in /usr/local/lib/python3.7/dist-packages (from qiskit-ibmq-provider==0.19.2->qiskit) (1.24.3)\n",
            "Requirement already satisfied: requests-ntlm>=1.1.0 in /usr/local/lib/python3.7/dist-packages (from qiskit-ibmq-provider==0.19.2->qiskit) (1.1.0)\n",
            "Requirement already satisfied: python-dateutil>=2.8.0 in /usr/local/lib/python3.7/dist-packages (from qiskit-ibmq-provider==0.19.2->qiskit) (2.8.2)\n",
            "Requirement already satisfied: websocket-client>=1.0.1 in /usr/local/lib/python3.7/dist-packages (from qiskit-ibmq-provider==0.19.2->qiskit) (1.4.1)\n",
            "Requirement already satisfied: websockets>=10.0 in /usr/local/lib/python3.7/dist-packages (from qiskit-ibmq-provider==0.19.2->qiskit) (10.3)\n",
            "Requirement already satisfied: requests>=2.19 in /usr/local/lib/python3.7/dist-packages (from qiskit-ibmq-provider==0.19.2->qiskit) (2.23.0)\n",
            "Requirement already satisfied: stevedore>=3.0.0 in /usr/local/lib/python3.7/dist-packages (from qiskit-terra==0.22.0->qiskit) (3.5.1)\n",
            "Requirement already satisfied: symengine>=0.9 in /usr/local/lib/python3.7/dist-packages (from qiskit-terra==0.22.0->qiskit) (0.9.2)\n",
            "Requirement already satisfied: psutil>=5 in /usr/local/lib/python3.7/dist-packages (from qiskit-terra==0.22.0->qiskit) (5.4.8)\n",
            "Requirement already satisfied: sympy>=1.3 in /usr/local/lib/python3.7/dist-packages (from qiskit-terra==0.22.0->qiskit) (1.7.1)\n",
            "Requirement already satisfied: importlib-metadata<5.0 in /usr/local/lib/python3.7/dist-packages (from qiskit-terra==0.22.0->qiskit) (4.13.0)\n",
            "Requirement already satisfied: ply>=3.10 in /usr/local/lib/python3.7/dist-packages (from qiskit-terra==0.22.0->qiskit) (3.11)\n",
            "Requirement already satisfied: tweedledum<2.0,>=1.1 in /usr/local/lib/python3.7/dist-packages (from qiskit-terra==0.22.0->qiskit) (1.1.1)\n",
            "Requirement already satisfied: dill>=0.3 in /usr/local/lib/python3.7/dist-packages (from qiskit-terra==0.22.0->qiskit) (0.3.5.1)\n",
            "Requirement already satisfied: retworkx>=0.11.0 in /usr/local/lib/python3.7/dist-packages (from qiskit-terra==0.22.0->qiskit) (0.12.0)\n",
            "Requirement already satisfied: shared-memory38 in /usr/local/lib/python3.7/dist-packages (from qiskit-terra==0.22.0->qiskit) (0.1.2)\n",
            "Requirement already satisfied: typing-extensions in /usr/local/lib/python3.7/dist-packages (from qiskit-terra==0.22.0->qiskit) (4.1.1)\n",
            "Requirement already satisfied: zipp>=0.5 in /usr/local/lib/python3.7/dist-packages (from importlib-metadata<5.0->qiskit-terra==0.22.0->qiskit) (3.9.0)\n",
            "Requirement already satisfied: six>=1.5 in /usr/local/lib/python3.7/dist-packages (from python-dateutil>=2.8.0->qiskit-ibmq-provider==0.19.2->qiskit) (1.15.0)\n",
            "Requirement already satisfied: idna<3,>=2.5 in /usr/local/lib/python3.7/dist-packages (from requests>=2.19->qiskit-ibmq-provider==0.19.2->qiskit) (2.10)\n",
            "Requirement already satisfied: certifi>=2017.4.17 in /usr/local/lib/python3.7/dist-packages (from requests>=2.19->qiskit-ibmq-provider==0.19.2->qiskit) (2022.9.24)\n",
            "Requirement already satisfied: chardet<4,>=3.0.2 in /usr/local/lib/python3.7/dist-packages (from requests>=2.19->qiskit-ibmq-provider==0.19.2->qiskit) (3.0.4)\n",
            "Requirement already satisfied: ntlm-auth>=1.0.2 in /usr/local/lib/python3.7/dist-packages (from requests-ntlm>=1.1.0->qiskit-ibmq-provider==0.19.2->qiskit) (1.5.0)\n",
            "Requirement already satisfied: cryptography>=1.3 in /usr/local/lib/python3.7/dist-packages (from requests-ntlm>=1.1.0->qiskit-ibmq-provider==0.19.2->qiskit) (38.0.1)\n",
            "Requirement already satisfied: cffi>=1.12 in /usr/local/lib/python3.7/dist-packages (from cryptography>=1.3->requests-ntlm>=1.1.0->qiskit-ibmq-provider==0.19.2->qiskit) (1.15.1)\n",
            "Requirement already satisfied: pycparser in /usr/local/lib/python3.7/dist-packages (from cffi>=1.12->cryptography>=1.3->requests-ntlm>=1.1.0->qiskit-ibmq-provider==0.19.2->qiskit) (2.21)\n",
            "Requirement already satisfied: rustworkx==0.12.0 in /usr/local/lib/python3.7/dist-packages (from retworkx>=0.11.0->qiskit-terra==0.22.0->qiskit) (0.12.0)\n",
            "Requirement already satisfied: pbr!=2.1.0,>=2.0.0 in /usr/local/lib/python3.7/dist-packages (from stevedore>=3.0.0->qiskit-terra==0.22.0->qiskit) (5.10.0)\n",
            "Requirement already satisfied: mpmath>=0.19 in /usr/local/lib/python3.7/dist-packages (from sympy>=1.3->qiskit-terra==0.22.0->qiskit) (1.2.1)\n"
          ]
        }
      ]
    },
    {
      "cell_type": "code",
      "execution_count": 2,
      "metadata": {
        "id": "h6njCEt4CU7V"
      },
      "outputs": [],
      "source": [
        "from qiskit import IBMQ"
      ]
    },
    {
      "cell_type": "code",
      "source": [
        "IBMQ.save_account('dcba64487e24956b59135c56b00a47fd5637bc9019eea775a316d0167a18f9c5c6fbfdac9c9f7bf7b4e9caabf18ffb1730bebd9b28a7c060a353f1495b542761')"
      ],
      "metadata": {
        "id": "wxo-TCe3DAe8",
        "colab": {
          "base_uri": "https://localhost:8080/"
        },
        "outputId": "9d90cdd2-6e1c-46e1-99a3-331e58ba0f53"
      },
      "execution_count": 3,
      "outputs": [
        {
          "output_type": "stream",
          "name": "stderr",
          "text": [
            "configrc.store_credentials:WARNING:2022-10-14 20:25:21,824: Credentials already present. Set overwrite=True to overwrite.\n"
          ]
        }
      ]
    },
    {
      "cell_type": "code",
      "source": [
        "IBMQ.load_account()"
      ],
      "metadata": {
        "colab": {
          "base_uri": "https://localhost:8080/"
        },
        "id": "WpkFCFiADGjo",
        "outputId": "2cd08460-b346-4a7d-bcde-dc8425d8b478"
      },
      "execution_count": 4,
      "outputs": [
        {
          "output_type": "execute_result",
          "data": {
            "text/plain": [
              "<AccountProvider for IBMQ(hub='ibm-q', group='open', project='main')>"
            ]
          },
          "metadata": {},
          "execution_count": 4
        }
      ]
    },
    {
      "cell_type": "markdown",
      "source": [
        "# **Hello world!**"
      ],
      "metadata": {
        "id": "1nbYdQ5UUBUH"
      }
    },
    {
      "cell_type": "code",
      "source": [
        "from qiskit import *"
      ],
      "metadata": {
        "id": "J2u0TOsUDLom"
      },
      "execution_count": 5,
      "outputs": []
    },
    {
      "cell_type": "code",
      "source": [
        "qreg = QuantumRegister(2)"
      ],
      "metadata": {
        "id": "s_JqriaCDQt2"
      },
      "execution_count": 6,
      "outputs": []
    },
    {
      "cell_type": "code",
      "source": [
        "creg = ClassicalRegister(2)"
      ],
      "metadata": {
        "id": "Gok-Iy98DTxt"
      },
      "execution_count": 7,
      "outputs": []
    },
    {
      "cell_type": "code",
      "source": [
        "circuit = QuantumCircuit(qreg,creg)"
      ],
      "metadata": {
        "id": "sAxApLm2DXpY"
      },
      "execution_count": 8,
      "outputs": []
    },
    {
      "cell_type": "code",
      "source": [
        "%matplotlib inline\n",
        "circuit.draw()"
      ],
      "metadata": {
        "colab": {
          "base_uri": "https://localhost:8080/",
          "height": 156
        },
        "id": "PAksN6lqDeiq",
        "outputId": "53265c09-0493-4297-d6a9-2c1fbde93006"
      },
      "execution_count": 9,
      "outputs": [
        {
          "output_type": "execute_result",
          "data": {
            "text/plain": [
              "      \n",
              "q0_0: \n",
              "      \n",
              "q0_1: \n",
              "      \n",
              "c0_0: \n",
              "      \n",
              "c0_1: \n",
              "      "
            ],
            "text/html": [
              "<pre style=\"word-wrap: normal;white-space: pre;background: #fff0;line-height: 1.1;font-family: &quot;Courier New&quot;,Courier,monospace\">      \n",
              "q0_0: \n",
              "      \n",
              "q0_1: \n",
              "      \n",
              "c0_0: \n",
              "      \n",
              "c0_1: \n",
              "      </pre>"
            ]
          },
          "metadata": {},
          "execution_count": 9
        }
      ]
    },
    {
      "cell_type": "code",
      "source": [
        "circuit.h(qreg[0])"
      ],
      "metadata": {
        "colab": {
          "base_uri": "https://localhost:8080/"
        },
        "id": "dDf3Z839ENMs",
        "outputId": "2cd66ff3-0e5b-4fed-dd19-c2b1d943767b"
      },
      "execution_count": 10,
      "outputs": [
        {
          "output_type": "execute_result",
          "data": {
            "text/plain": [
              "<qiskit.circuit.instructionset.InstructionSet at 0x7fee79474310>"
            ]
          },
          "metadata": {},
          "execution_count": 10
        }
      ]
    },
    {
      "cell_type": "code",
      "source": [
        "!pip install pylatexenc"
      ],
      "metadata": {
        "colab": {
          "base_uri": "https://localhost:8080/"
        },
        "id": "pMkEB1NHJ3q8",
        "outputId": "69f7b322-d56c-41ad-d58d-7c4a25985efa"
      },
      "execution_count": 11,
      "outputs": [
        {
          "output_type": "stream",
          "name": "stdout",
          "text": [
            "Looking in indexes: https://pypi.org/simple, https://us-python.pkg.dev/colab-wheels/public/simple/\n",
            "Requirement already satisfied: pylatexenc in /usr/local/lib/python3.7/dist-packages (2.10)\n"
          ]
        }
      ]
    },
    {
      "cell_type": "code",
      "source": [
        "circuit.draw(output='mpl')"
      ],
      "metadata": {
        "colab": {
          "base_uri": "https://localhost:8080/",
          "height": 185
        },
        "id": "WXTGOoPWJwPs",
        "outputId": "a3226209-24d7-4a73-87ae-af84a40f5951"
      },
      "execution_count": 12,
      "outputs": [
        {
          "output_type": "execute_result",
          "data": {
            "text/plain": [
              "<Figure size 159.633x204.68 with 1 Axes>"
            ],
            "image/png": "[encoded data removed]"
          },
          "metadata": {},
          "execution_count": 12
        }
      ]
    },
    {
      "cell_type": "code",
      "source": [
        "circuit.cx(qreg[0], qreg[1])"
      ],
      "metadata": {
        "colab": {
          "base_uri": "https://localhost:8080/"
        },
        "id": "qEvGe6PCL8T2",
        "outputId": "93065e9c-0ec2-4e88-aeaa-1a6500e1cedb"
      },
      "execution_count": 13,
      "outputs": [
        {
          "output_type": "execute_result",
          "data": {
            "text/plain": [
              "<qiskit.circuit.instructionset.InstructionSet at 0x7fee6e17c710>"
            ]
          },
          "metadata": {},
          "execution_count": 13
        }
      ]
    },
    {
      "cell_type": "code",
      "source": [
        "circuit.draw(output='mpl')"
      ],
      "metadata": {
        "colab": {
          "base_uri": "https://localhost:8080/",
          "height": 185
        },
        "id": "t_12gsY8Mq9i",
        "outputId": "99fbc837-a08c-403e-ff71-312b38b6593f"
      },
      "execution_count": 14,
      "outputs": [
        {
          "output_type": "execute_result",
          "data": {
            "text/plain": [
              "<Figure size 219.833x204.68 with 1 Axes>"
            ],
            "image/png": "[encoded data removed]"
          },
          "metadata": {},
          "execution_count": 14
        }
      ]
    },
    {
      "cell_type": "markdown",
      "source": [
        "# **Measure the quantum bits or qubits**"
      ],
      "metadata": {
        "id": "hjJ-ZQc2T5_7"
      }
    },
    {
      "cell_type": "code",
      "source": [
        "circuit.measure(qreg, creg)"
      ],
      "metadata": {
        "colab": {
          "base_uri": "https://localhost:8080/"
        },
        "id": "7jbYLCIGNRp3",
        "outputId": "be578f67-b690-4341-80fe-7c1dc7b90e56"
      },
      "execution_count": 15,
      "outputs": [
        {
          "output_type": "execute_result",
          "data": {
            "text/plain": [
              "<qiskit.circuit.instructionset.InstructionSet at 0x7fee6e0397d0>"
            ]
          },
          "metadata": {},
          "execution_count": 15
        }
      ]
    },
    {
      "cell_type": "code",
      "source": [
        "circuit.draw(output='mpl')"
      ],
      "metadata": {
        "colab": {
          "base_uri": "https://localhost:8080/",
          "height": 185
        },
        "id": "nEhNQHHzNqry",
        "outputId": "94c6e503-b26b-4ac3-b335-f88c8215ffc5"
      },
      "execution_count": 16,
      "outputs": [
        {
          "output_type": "execute_result",
          "data": {
            "text/plain": [
              "<Figure size 340.233x204.68 with 1 Axes>"
            ],
            "image/png": "[encoded data removed]"
          },
          "metadata": {},
          "execution_count": 16
        }
      ]
    },
    {
      "cell_type": "markdown",
      "source": [
        "# **Running the circuit**"
      ],
      "metadata": {
        "id": "6_ZPprbmPGtx"
      }
    },
    {
      "cell_type": "code",
      "source": [
        "simulator = Aer.get_backend('qasm_simulator')"
      ],
      "metadata": {
        "id": "Yd98GBimPIvh"
      },
      "execution_count": 17,
      "outputs": []
    },
    {
      "cell_type": "code",
      "source": [
        "result = execute(circuit, backend = simulator).result()"
      ],
      "metadata": {
        "id": "XesTQ5qbQRhT"
      },
      "execution_count": 18,
      "outputs": []
    },
    {
      "cell_type": "code",
      "source": [
        "from qiskit.visualization import plot_histogram"
      ],
      "metadata": {
        "id": "4eTxbYwQQjb_"
      },
      "execution_count": 23,
      "outputs": []
    },
    {
      "cell_type": "code",
      "source": [
        "plot_histogram(result.get_counts(circuit))"
      ],
      "metadata": {
        "colab": {
          "base_uri": "https://localhost:8080/",
          "height": 331
        },
        "id": "cdGIoRUuRXnN",
        "outputId": "5d098c8e-3f7e-473c-9307-0e1250a0b8db"
      },
      "execution_count": 24,
      "outputs": [
        {
          "output_type": "execute_result",
          "data": {
            "text/plain": [
              "<Figure size 504x360 with 1 Axes>"
            ],
            "image/png": "[encoded data removed]"
          },
          "metadata": {},
          "execution_count": 24
        }
      ]
    },
    {
      "cell_type": "code",
      "source": [
        "IBMQ.load_account()"
      ],
      "metadata": {
        "colab": {
          "base_uri": "https://localhost:8080/"
        },
        "id": "w4trpr07SCGm",
        "outputId": "2657b7b5-c95a-467f-ff70-71f96d63065d"
      },
      "execution_count": 25,
      "outputs": [
        {
          "output_type": "stream",
          "name": "stderr",
          "text": [
            "ibmqfactory.load_account:WARNING:2022-10-14 20:56:01,245: Credentials are already in use. The existing account in the session will be replaced.\n"
          ]
        },
        {
          "output_type": "execute_result",
          "data": {
            "text/plain": [
              "<AccountProvider for IBMQ(hub='ibm-q', group='open', project='main')>"
            ]
          },
          "metadata": {},
          "execution_count": 25
        }
      ]
    },
    {
      "cell_type": "code",
      "source": [
        "provider = IBMQ.get_provider('ibm-q')"
      ],
      "metadata": {
        "id": "KJ3LH8OLUbLi"
      },
      "execution_count": 47,
      "outputs": []
    },
    {
      "cell_type": "markdown",
      "source": [
        "## **Tip**"
      ],
      "metadata": {
        "id": "X3SzioMra06l"
      }
    },
    {
      "cell_type": "markdown",
      "source": [
        "To get the list of available backends in service. Let's run the following code:"
      ],
      "metadata": {
        "id": "Y0OLJDOOa3_Y"
      }
    },
    {
      "cell_type": "code",
      "source": [
        "IBMQ.providers()"
      ],
      "metadata": {
        "colab": {
          "base_uri": "https://localhost:8080/"
        },
        "id": "ReJ4dkS1ghB2",
        "outputId": "5d10a3df-6077-4337-bb97-862ccf62f16d"
      },
      "execution_count": 69,
      "outputs": [
        {
          "output_type": "execute_result",
          "data": {
            "text/plain": [
              "[<AccountProvider for IBMQ(hub='ibm-q', group='open', project='main')>]"
            ]
          },
          "metadata": {},
          "execution_count": 69
        }
      ]
    },
    {
      "cell_type": "code",
      "source": [
        "from qiskit import IBMQ, Aer\n",
        "provider = IBMQ.load_account()\n",
        "available_cloud_backends = provider.backends() \n",
        "print('\\n Cloud backends:')\n",
        "for i in available_cloud_backends: print(i)\n",
        "\n",
        "available_local_backends = Aer.backends() \n",
        "print('\\n Local backends: ')\n",
        "for i in available_local_backends: print(i)"
      ],
      "metadata": {
        "colab": {
          "base_uri": "https://localhost:8080/"
        },
        "id": "vZi_DU1ea9dp",
        "outputId": "e592d6b4-30c3-4a87-d078-9aaee58c7c25"
      },
      "execution_count": 54,
      "outputs": [
        {
          "output_type": "stream",
          "name": "stderr",
          "text": [
            "ibmqfactory.load_account:WARNING:2022-10-14 21:34:50,990: Credentials are already in use. The existing account in the session will be replaced.\n"
          ]
        },
        {
          "output_type": "stream",
          "name": "stdout",
          "text": [
            "\n",
            " Cloud backends:\n",
            "ibmq_qasm_simulator\n",
            "ibmq_lima\n",
            "ibmq_belem\n",
            "ibmq_quito\n",
            "simulator_statevector\n",
            "simulator_mps\n",
            "simulator_extended_stabilizer\n",
            "simulator_stabilizer\n",
            "ibmq_manila\n",
            "ibm_nairobi\n",
            "ibm_oslo\n",
            "\n",
            " Local backends: \n",
            "aer_simulator\n",
            "aer_simulator_statevector\n",
            "aer_simulator_density_matrix\n",
            "aer_simulator_stabilizer\n",
            "aer_simulator_matrix_product_state\n",
            "aer_simulator_extended_stabilizer\n",
            "aer_simulator_unitary\n",
            "aer_simulator_superop\n",
            "qasm_simulator\n",
            "statevector_simulator\n",
            "unitary_simulator\n",
            "pulse_simulator\n"
          ]
        }
      ]
    },
    {
      "cell_type": "code",
      "source": [
        "qcomp = provider.get_backend('ibmq_belem')"
      ],
      "metadata": {
        "id": "wrIS5PHTb-gu"
      },
      "execution_count": 63,
      "outputs": []
    },
    {
      "cell_type": "code",
      "source": [
        "job = execute(circuit, backend = qcomp)"
      ],
      "metadata": {
        "id": "MB9jqMSaU-mI"
      },
      "execution_count": 64,
      "outputs": []
    },
    {
      "cell_type": "code",
      "source": [
        "from qiskit.tools.monitor import job_monitor"
      ],
      "metadata": {
        "id": "-0jJhE7GVk0_"
      },
      "execution_count": 65,
      "outputs": []
    },
    {
      "cell_type": "code",
      "source": [
        "job_monitor(job)"
      ],
      "metadata": {
        "colab": {
          "base_uri": "https://localhost:8080/"
        },
        "id": "0ofaQqpyVs3u",
        "outputId": "138d2620-5cbc-4b20-ba4b-2f4a2c2b68f0"
      },
      "execution_count": 66,
      "outputs": [
        {
          "output_type": "stream",
          "name": "stdout",
          "text": [
            "Job Status: job has successfully run\n"
          ]
        }
      ]
    },
    {
      "cell_type": "code",
      "source": [
        "result = job.result()"
      ],
      "metadata": {
        "id": "TXxAFESmWKLq"
      },
      "execution_count": 67,
      "outputs": []
    },
    {
      "cell_type": "code",
      "source": [
        "plot_histogram(result.get_counts(circuit))"
      ],
      "metadata": {
        "colab": {
          "base_uri": "https://localhost:8080/",
          "height": 331
        },
        "id": "bWBWjse7WWgG",
        "outputId": "1d3ceb75-8970-47c2-a790-09957205aa68"
      },
      "execution_count": 68,
      "outputs": [
        {
          "output_type": "execute_result",
          "data": {
            "text/plain": [
              "<Figure size 504x360 with 1 Axes>"
            ],
            "image/png": "[encoded data removed]"
          },
          "metadata": {},
          "execution_count": 68
        }
      ]
    }
  ]
}